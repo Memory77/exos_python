{
 "cells": [
  {
   "cell_type": "code",
   "execution_count": 35,
   "metadata": {},
   "outputs": [
    {
     "name": "stdout",
     "output_type": "stream",
     "text": [
      "dev IA = en evolution\n",
      "car on voudra integrer l'ia dans les appli\n",
      "\n",
      "data scientist : bouché car on en a pas besoin de beaucoup. Un seul suffit \n",
      "\n",
      "data analyst : pas mal d'offres besoin d'analyses pour chaque domaine on peut en avoir plusieurs dans\n",
      "une entreprise\n",
      "\n",
      "data inge : croissance car data croissant\n",
      "\n",
      "test: 5\n",
      "\n"
     ]
    }
   ],
   "source": [
    "# 63\n",
    "\n",
    "def supprCarac(cheminFichier,caractere):\n",
    "    file = open(cheminFichier, \"r\")\n",
    "    content = file.read()\n",
    "    content = content.replace(caractere, '')\n",
    "    new_file = open(cheminFichier, \"w\")\n",
    "    new_file.write(content)\n",
    "    return content\n",
    "\n",
    "path = \"///home/utilisateur/Documents/notes_metier\"\n",
    "print(supprCarac(path,\",\"))\n",
    "\n"
   ]
  },
  {
   "cell_type": "code",
   "execution_count": 33,
   "metadata": {},
   "outputs": [
    {
     "name": "stdout",
     "output_type": "stream",
     "text": [
      "True\n"
     ]
    }
   ],
   "source": [
    "# 64\n",
    "\n",
    "def presenceNombre(cheminFichier):\n",
    "    with open(cheminFichier, \"r\") as file:\n",
    "        content = file.read()\n",
    "        for character in content:\n",
    "            if character.isdigit():\n",
    "                return True  \n",
    "    return False  \n",
    "\n",
    "path = \"/home/utilisateur/Documents/notes_metier\"\n",
    "result = presenceNombre(path)\n",
    "print(result)"
   ]
  },
  {
   "cell_type": "code",
   "execution_count": 37,
   "metadata": {},
   "outputs": [
    {
     "name": "stdout",
     "output_type": "stream",
     "text": [
      "1\n"
     ]
    }
   ],
   "source": [
    "# 65\n",
    "import os\n",
    "\n",
    "def nombreFichier(cheminDossier):\n",
    "    fichiers = os.listdir(cheminDossier)\n",
    "    total_fichier = len(fichiers)\n",
    "    return total_fichier\n",
    "\n",
    "\n",
    "path = \"/home/utilisateur/Documents\"\n",
    "print(nombreFichier(path))\n"
   ]
  },
  {
   "cell_type": "code",
   "execution_count": 50,
   "metadata": {},
   "outputs": [
    {
     "name": "stdout",
     "output_type": "stream",
     "text": [
      "Bonjour je m'appelle Gregory et j'ai 30 ans\n"
     ]
    }
   ],
   "source": [
    "# 66\n",
    "\n",
    "def ecrireFichier(nomFichier, texte):\n",
    "    with open(nomFichier, \"w\") as file:\n",
    "        file.write(texte)\n",
    "    with open(nomFichier, 'r') as file:\n",
    "        contenu = file.read() \n",
    "    return contenu\n",
    "\n",
    "path = \"/home/utilisateur/Documents/new_fichier.txt\"\n",
    "print(ecrireFichier(path, \"Bonjour je m'appelle Gregory et j'ai 30 ans\"))\n",
    "\n"
   ]
  },
  {
   "cell_type": "code",
   "execution_count": 82,
   "metadata": {},
   "outputs": [
    {
     "data": {
      "text/plain": [
       "'a'"
      ]
     },
     "execution_count": 82,
     "metadata": {},
     "output_type": "execute_result"
    }
   ],
   "source": [
    "# 67\n",
    "\n",
    "def cleMaxValeurDict(d):\n",
    "    somme_max = 0\n",
    "    \n",
    "    for key, valeurs in d.items():\n",
    "        somme = sum(valeurs)\n",
    "        if somme > somme_max:\n",
    "            somme_max = somme\n",
    "            vmax = key\n",
    "    \n",
    "    return vmax\n",
    "\n",
    "\n",
    "cleMaxValeurDict({\"a\":[9,1,1,1,10,9,7,3,1],\"b\":[5,3,2,2,2],\"c\":[1,1,1,1,8,2]})"
   ]
  },
  {
   "cell_type": "code",
   "execution_count": null,
   "metadata": {},
   "outputs": [],
   "source": [
    "# 68"
   ]
  },
  {
   "cell_type": "code",
   "execution_count": 12,
   "metadata": {},
   "outputs": [
    {
     "ename": "ValueError",
     "evalue": "time data '2022/05/15' does not match format '%Y/%m/%d %H/%M/%S'",
     "output_type": "error",
     "traceback": [
      "\u001b[0;31m---------------------------------------------------------------------------\u001b[0m",
      "\u001b[0;31mValueError\u001b[0m                                Traceback (most recent call last)",
      "\u001b[1;32m/home/utilisateur/Bureau/exos_python/exercice_page2.ipynb Cell 7\u001b[0m line \u001b[0;36m1\n\u001b[1;32m     <a href='vscode-notebook-cell:/home/utilisateur/Bureau/exos_python/exercice_page2.ipynb#X14sZmlsZQ%3D%3D?line=12'>13</a>\u001b[0m     date_fin \u001b[39m=\u001b[39m datetime\u001b[39m.\u001b[39mstrptime(dateFin, \u001b[39m\"\u001b[39m\u001b[39m%\u001b[39m\u001b[39mY/\u001b[39m\u001b[39m%\u001b[39m\u001b[39mm/\u001b[39m\u001b[39m%d\u001b[39;00m\u001b[39m \u001b[39m\u001b[39m%\u001b[39m\u001b[39mH/\u001b[39m\u001b[39m%\u001b[39m\u001b[39mM/\u001b[39m\u001b[39m%\u001b[39m\u001b[39mS\u001b[39m\u001b[39m\"\u001b[39m)\n\u001b[1;32m     <a href='vscode-notebook-cell:/home/utilisateur/Bureau/exos_python/exercice_page2.ipynb#X14sZmlsZQ%3D%3D?line=13'>14</a>\u001b[0m     \u001b[39mprint\u001b[39m(date_fin)\n\u001b[0;32m---> <a href='vscode-notebook-cell:/home/utilisateur/Bureau/exos_python/exercice_page2.ipynb#X14sZmlsZQ%3D%3D?line=17'>18</a>\u001b[0m nbrJourHeure(\u001b[39m\"\u001b[39;49m\u001b[39m2022/05/15\u001b[39;49m\u001b[39m\"\u001b[39;49m,\u001b[39m\"\u001b[39;49m\u001b[39m2022/06/20\u001b[39;49m\u001b[39m\"\u001b[39;49m)\n\u001b[1;32m     <a href='vscode-notebook-cell:/home/utilisateur/Bureau/exos_python/exercice_page2.ipynb#X14sZmlsZQ%3D%3D?line=20'>21</a>\u001b[0m \u001b[39m# # Obtenir le timestamp en secondes depuis l'époque (01/01/1970 à 00:00:00 UTC)\u001b[39;00m\n\u001b[1;32m     <a href='vscode-notebook-cell:/home/utilisateur/Bureau/exos_python/exercice_page2.ipynb#X14sZmlsZQ%3D%3D?line=21'>22</a>\u001b[0m \u001b[39m# timestamp = date_obj.timestamp()\u001b[39;00m\n\u001b[1;32m     <a href='vscode-notebook-cell:/home/utilisateur/Bureau/exos_python/exercice_page2.ipynb#X14sZmlsZQ%3D%3D?line=22'>23</a>\u001b[0m \u001b[39m# print(timestamp)\u001b[39;00m\n\u001b[1;32m     <a href='vscode-notebook-cell:/home/utilisateur/Bureau/exos_python/exercice_page2.ipynb#X14sZmlsZQ%3D%3D?line=23'>24</a>\u001b[0m \u001b[39m# # Afficher le timestamp\u001b[39;00m\n\u001b[1;32m     <a href='vscode-notebook-cell:/home/utilisateur/Bureau/exos_python/exercice_page2.ipynb#X14sZmlsZQ%3D%3D?line=24'>25</a>\u001b[0m \u001b[39m# print(int(timestamp))  # Utilisation de int() pour supprimer les décimales si nécessaire\u001b[39;00m\n",
      "\u001b[1;32m/home/utilisateur/Bureau/exos_python/exercice_page2.ipynb Cell 7\u001b[0m line \u001b[0;36m9\n\u001b[1;32m      <a href='vscode-notebook-cell:/home/utilisateur/Bureau/exos_python/exercice_page2.ipynb#X14sZmlsZQ%3D%3D?line=4'>5</a>\u001b[0m \u001b[39mdef\u001b[39;00m \u001b[39mnbrJourHeure\u001b[39m(dateDebut, dateFin):\n\u001b[1;32m      <a href='vscode-notebook-cell:/home/utilisateur/Bureau/exos_python/exercice_page2.ipynb#X14sZmlsZQ%3D%3D?line=5'>6</a>\u001b[0m \n\u001b[1;32m      <a href='vscode-notebook-cell:/home/utilisateur/Bureau/exos_python/exercice_page2.ipynb#X14sZmlsZQ%3D%3D?line=6'>7</a>\u001b[0m \n\u001b[1;32m      <a href='vscode-notebook-cell:/home/utilisateur/Bureau/exos_python/exercice_page2.ipynb#X14sZmlsZQ%3D%3D?line=7'>8</a>\u001b[0m     \u001b[39m# Convertir la date en objet datetime\u001b[39;00m\n\u001b[0;32m----> <a href='vscode-notebook-cell:/home/utilisateur/Bureau/exos_python/exercice_page2.ipynb#X14sZmlsZQ%3D%3D?line=8'>9</a>\u001b[0m     date_debut \u001b[39m=\u001b[39m datetime\u001b[39m.\u001b[39;49mstrptime(dateDebut, \u001b[39m\"\u001b[39;49m\u001b[39m%\u001b[39;49m\u001b[39mY/\u001b[39;49m\u001b[39m%\u001b[39;49m\u001b[39mm/\u001b[39;49m\u001b[39m%d\u001b[39;49;00m\u001b[39m \u001b[39;49m\u001b[39m%\u001b[39;49m\u001b[39mH/\u001b[39;49m\u001b[39m%\u001b[39;49m\u001b[39mM/\u001b[39;49m\u001b[39m%\u001b[39;49m\u001b[39mS\u001b[39;49m\u001b[39m\"\u001b[39;49m)\n\u001b[1;32m     <a href='vscode-notebook-cell:/home/utilisateur/Bureau/exos_python/exercice_page2.ipynb#X14sZmlsZQ%3D%3D?line=9'>10</a>\u001b[0m     \u001b[39mprint\u001b[39m(date_debut)\n\u001b[1;32m     <a href='vscode-notebook-cell:/home/utilisateur/Bureau/exos_python/exercice_page2.ipynb#X14sZmlsZQ%3D%3D?line=11'>12</a>\u001b[0m     \u001b[39m# Convertir la date en objet datetime\u001b[39;00m\n",
      "File \u001b[0;32m/usr/lib/python3.11/_strptime.py:568\u001b[0m, in \u001b[0;36m_strptime_datetime\u001b[0;34m(cls, data_string, format)\u001b[0m\n\u001b[1;32m    565\u001b[0m \u001b[39mdef\u001b[39;00m \u001b[39m_strptime_datetime\u001b[39m(\u001b[39mcls\u001b[39m, data_string, \u001b[39mformat\u001b[39m\u001b[39m=\u001b[39m\u001b[39m\"\u001b[39m\u001b[39m%a\u001b[39;00m\u001b[39m \u001b[39m\u001b[39m%\u001b[39m\u001b[39mb \u001b[39m\u001b[39m%d\u001b[39;00m\u001b[39m \u001b[39m\u001b[39m%\u001b[39m\u001b[39mH:\u001b[39m\u001b[39m%\u001b[39m\u001b[39mM:\u001b[39m\u001b[39m%\u001b[39m\u001b[39mS \u001b[39m\u001b[39m%\u001b[39m\u001b[39mY\u001b[39m\u001b[39m\"\u001b[39m):\n\u001b[1;32m    566\u001b[0m \u001b[39m    \u001b[39m\u001b[39m\"\"\"Return a class cls instance based on the input string and the\u001b[39;00m\n\u001b[1;32m    567\u001b[0m \u001b[39m    format string.\"\"\"\u001b[39;00m\n\u001b[0;32m--> 568\u001b[0m     tt, fraction, gmtoff_fraction \u001b[39m=\u001b[39m _strptime(data_string, \u001b[39mformat\u001b[39;49m)\n\u001b[1;32m    569\u001b[0m     tzname, gmtoff \u001b[39m=\u001b[39m tt[\u001b[39m-\u001b[39m\u001b[39m2\u001b[39m:]\n\u001b[1;32m    570\u001b[0m     args \u001b[39m=\u001b[39m tt[:\u001b[39m6\u001b[39m] \u001b[39m+\u001b[39m (fraction,)\n",
      "File \u001b[0;32m/usr/lib/python3.11/_strptime.py:349\u001b[0m, in \u001b[0;36m_strptime\u001b[0;34m(data_string, format)\u001b[0m\n\u001b[1;32m    347\u001b[0m found \u001b[39m=\u001b[39m format_regex\u001b[39m.\u001b[39mmatch(data_string)\n\u001b[1;32m    348\u001b[0m \u001b[39mif\u001b[39;00m \u001b[39mnot\u001b[39;00m found:\n\u001b[0;32m--> 349\u001b[0m     \u001b[39mraise\u001b[39;00m \u001b[39mValueError\u001b[39;00m(\u001b[39m\"\u001b[39m\u001b[39mtime data \u001b[39m\u001b[39m%r\u001b[39;00m\u001b[39m does not match format \u001b[39m\u001b[39m%r\u001b[39;00m\u001b[39m\"\u001b[39m \u001b[39m%\u001b[39m\n\u001b[1;32m    350\u001b[0m                      (data_string, \u001b[39mformat\u001b[39m))\n\u001b[1;32m    351\u001b[0m \u001b[39mif\u001b[39;00m \u001b[39mlen\u001b[39m(data_string) \u001b[39m!=\u001b[39m found\u001b[39m.\u001b[39mend():\n\u001b[1;32m    352\u001b[0m     \u001b[39mraise\u001b[39;00m \u001b[39mValueError\u001b[39;00m(\u001b[39m\"\u001b[39m\u001b[39munconverted data remains: \u001b[39m\u001b[39m%s\u001b[39;00m\u001b[39m\"\u001b[39m \u001b[39m%\u001b[39m\n\u001b[1;32m    353\u001b[0m                       data_string[found\u001b[39m.\u001b[39mend():])\n",
      "\u001b[0;31mValueError\u001b[0m: time data '2022/05/15' does not match format '%Y/%m/%d %H/%M/%S'"
     ]
    }
   ],
   "source": [
    "# 69\n",
    "from datetime import datetime\n",
    "\n",
    "\n",
    "def nbrJourHeure(dateDebut, dateFin):\n",
    "\n",
    "\n",
    "    # Convertir la date en objet datetime\n",
    "    date_debut = datetime.strptime(dateDebut, \"%Y/%m/%d %H/%M/%S\")\n",
    "    print(date_debut)\n",
    "\n",
    "    # Convertir la date en objet datetime\n",
    "    date_fin = datetime.strptime(dateFin, \"%Y/%m/%d %H/%M/%S\")\n",
    "    print(date_fin)\n",
    "\n",
    "\n",
    "\n",
    "nbrJourHeure(\"2022/05/15\",\"2022/06/20\")\n",
    "\n",
    "\n",
    "# # Obtenir le timestamp en secondes depuis l'époque (01/01/1970 à 00:00:00 UTC)\n",
    "# timestamp = date_obj.timestamp()\n",
    "# print(timestamp)\n",
    "# # Afficher le timestamp\n",
    "# print(int(timestamp))  # Utilisation de int() pour supprimer les décimales si nécessaire\n",
    "\n",
    "\n"
   ]
  },
  {
   "cell_type": "code",
   "execution_count": null,
   "metadata": {},
   "outputs": [],
   "source": []
  }
 ],
 "metadata": {
  "kernelspec": {
   "display_name": "Python 3",
   "language": "python",
   "name": "python3"
  },
  "language_info": {
   "codemirror_mode": {
    "name": "ipython",
    "version": 3
   },
   "file_extension": ".py",
   "mimetype": "text/x-python",
   "name": "python",
   "nbconvert_exporter": "python",
   "pygments_lexer": "ipython3",
   "version": "3.11.0rc1"
  }
 },
 "nbformat": 4,
 "nbformat_minor": 2
}
