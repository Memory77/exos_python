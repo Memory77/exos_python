{
 "cells": [
  {
   "cell_type": "code",
   "execution_count": 35,
   "metadata": {},
   "outputs": [
    {
     "name": "stdout",
     "output_type": "stream",
     "text": [
      "dev IA = en evolution\n",
      "car on voudra integrer l'ia dans les appli\n",
      "\n",
      "data scientist : bouché car on en a pas besoin de beaucoup. Un seul suffit \n",
      "\n",
      "data analyst : pas mal d'offres besoin d'analyses pour chaque domaine on peut en avoir plusieurs dans\n",
      "une entreprise\n",
      "\n",
      "data inge : croissance car data croissant\n",
      "\n",
      "test: 5\n",
      "\n"
     ]
    }
   ],
   "source": [
    "# 63\n",
    "\n",
    "def supprCarac(cheminFichier,caractere):\n",
    "    file = open(cheminFichier, \"r\")\n",
    "    content = file.read()\n",
    "    content = content.replace(caractere, '')\n",
    "    new_file = open(cheminFichier, \"w\")\n",
    "    new_file.write(content)\n",
    "    return content\n",
    "\n",
    "path = \"///home/utilisateur/Documents/notes_metier\"\n",
    "print(supprCarac(path,\",\"))\n",
    "\n"
   ]
  },
  {
   "cell_type": "code",
   "execution_count": 33,
   "metadata": {},
   "outputs": [
    {
     "name": "stdout",
     "output_type": "stream",
     "text": [
      "True\n"
     ]
    }
   ],
   "source": [
    "# 64\n",
    "\n",
    "def presenceNombre(cheminFichier):\n",
    "    with open(cheminFichier, \"r\") as file:\n",
    "        content = file.read()\n",
    "        for character in content:\n",
    "            if character.isdigit():\n",
    "                return True  \n",
    "    return False  \n",
    "\n",
    "path = \"/home/utilisateur/Documents/notes_metier\"\n",
    "result = presenceNombre(path)\n",
    "print(result)"
   ]
  },
  {
   "cell_type": "code",
   "execution_count": 37,
   "metadata": {},
   "outputs": [
    {
     "name": "stdout",
     "output_type": "stream",
     "text": [
      "1\n"
     ]
    }
   ],
   "source": [
    "# 65\n",
    "import os\n",
    "\n",
    "def nombreFichier(cheminDossier):\n",
    "    fichiers = os.listdir(cheminDossier)\n",
    "    total_fichier = len(fichiers)\n",
    "    return total_fichier\n",
    "\n",
    "\n",
    "path = \"/home/utilisateur/Documents\"\n",
    "print(nombreFichier(path))\n"
   ]
  },
  {
   "cell_type": "code",
   "execution_count": 50,
   "metadata": {},
   "outputs": [
    {
     "name": "stdout",
     "output_type": "stream",
     "text": [
      "Bonjour je m'appelle Gregory et j'ai 30 ans\n"
     ]
    }
   ],
   "source": [
    "# 66\n",
    "\n",
    "def ecrireFichier(nomFichier, texte):\n",
    "    with open(nomFichier, \"w\") as file:\n",
    "        file.write(texte)\n",
    "    with open(nomFichier, 'r') as file:\n",
    "        contenu = file.read() \n",
    "    return contenu\n",
    "\n",
    "path = \"/home/utilisateur/Documents/new_fichier.txt\"\n",
    "print(ecrireFichier(path, \"Bonjour je m'appelle Gregory et j'ai 30 ans\"))\n",
    "\n"
   ]
  },
  {
   "cell_type": "code",
   "execution_count": 82,
   "metadata": {},
   "outputs": [
    {
     "data": {
      "text/plain": [
       "'a'"
      ]
     },
     "execution_count": 82,
     "metadata": {},
     "output_type": "execute_result"
    }
   ],
   "source": [
    "# 67\n",
    "\n",
    "def cleMaxValeurDict(d):\n",
    "    somme_max = 0\n",
    "    \n",
    "    for key, valeurs in d.items():\n",
    "        somme = sum(valeurs)\n",
    "        if somme > somme_max:\n",
    "            somme_max = somme\n",
    "            vmax = key\n",
    "    \n",
    "    return vmax\n",
    "\n",
    "\n",
    "cleMaxValeurDict({\"a\":[9,1,1,1,10,9,7,3,1],\"b\":[5,3,2,2,2],\"c\":[1,1,1,1,8,2]})"
   ]
  },
  {
   "cell_type": "code",
   "execution_count": null,
   "metadata": {},
   "outputs": [],
   "source": [
    "# 68"
   ]
  }
 ],
 "metadata": {
  "kernelspec": {
   "display_name": "Python 3",
   "language": "python",
   "name": "python3"
  },
  "language_info": {
   "codemirror_mode": {
    "name": "ipython",
    "version": 3
   },
   "file_extension": ".py",
   "mimetype": "text/x-python",
   "name": "python",
   "nbconvert_exporter": "python",
   "pygments_lexer": "ipython3",
   "version": "3.11.0rc1"
  }
 },
 "nbformat": 4,
 "nbformat_minor": 2
}
