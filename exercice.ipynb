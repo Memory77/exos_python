{
 "cells": [
  {
   "cell_type": "code",
   "execution_count": 1,
   "metadata": {},
   "outputs": [
    {
     "name": "stdout",
     "output_type": "stream",
     "text": [
      "1\n",
      "France\n",
      "(36, 2)\n"
     ]
    }
   ],
   "source": [
    "a = 1\n",
    "b = \"France\"\n",
    "c = 36,2\n",
    "\n",
    "print(a)\n",
    "print(b)\n",
    "print(c)"
   ]
  },
  {
   "cell_type": "code",
   "execution_count": 4,
   "metadata": {},
   "outputs": [
    {
     "name": "stdout",
     "output_type": "stream",
     "text": [
      "salut ça va\n"
     ]
    }
   ],
   "source": [
    "ch = \"salut\"\n",
    "ch = ch + \" ça va\"\n",
    "print(ch)"
   ]
  },
  {
   "cell_type": "code",
   "execution_count": 5,
   "metadata": {},
   "outputs": [
    {
     "name": "stdout",
     "output_type": "stream",
     "text": [
      "<class 'str'>\n",
      "<class 'str'>\n"
     ]
    }
   ],
   "source": [
    "x = 3\n",
    "y = 8.5\n",
    "\n",
    "new_x = str(x)\n",
    "print(type(new_x))\n",
    "\n",
    "new_y = str(y)\n",
    "print(type(new_y))"
   ]
  },
  {
   "cell_type": "code",
   "execution_count": 44,
   "metadata": {},
   "outputs": [
    {
     "name": "stdout",
     "output_type": "stream",
     "text": [
      "45\n"
     ]
    }
   ],
   "source": [
    "poid = input(\"Tapez votre poid : \")\n",
    "print(poid)"
   ]
  },
  {
   "cell_type": "code",
   "execution_count": 13,
   "metadata": {},
   "outputs": [
    {
     "name": "stdout",
     "output_type": "stream",
     "text": [
      "chaine de caractère\n"
     ]
    }
   ],
   "source": [
    "var = \"bonjour\"\n",
    "\n",
    "if isinstance(var, int):\n",
    "    print(\"integer\")\n",
    "else:\n",
    "    print(\"chaine de caractère\")"
   ]
  },
  {
   "cell_type": "code",
   "execution_count": 47,
   "metadata": {},
   "outputs": [
    {
     "name": "stdout",
     "output_type": "stream",
     "text": [
      "negative\n"
     ]
    }
   ],
   "source": [
    "d = -5\n",
    "\n",
    "if d > 0:\n",
    "    print(\"positive\")\n",
    "else:\n",
    "    print(\"negative\")"
   ]
  },
  {
   "cell_type": "code",
   "execution_count": 50,
   "metadata": {},
   "outputs": [
    {
     "name": "stdout",
     "output_type": "stream",
     "text": [
      "Vous etes majeur\n"
     ]
    }
   ],
   "source": [
    "#exercice 7\n",
    "\n",
    "age = input(\"tappez votre age : \")\n",
    "\n",
    "age = int(age)\n",
    "\n",
    "if age >= 18:\n",
    "    print(\"Vous etes majeur\")\n",
    "elif age < 18:\n",
    "    print(\"vous etes mineur\")"
   ]
  },
  {
   "cell_type": "code",
   "execution_count": 14,
   "metadata": {},
   "outputs": [
    {
     "name": "stdout",
     "output_type": "stream",
     "text": [
      "1\n",
      "2\n",
      "3\n",
      "4\n",
      "5\n",
      "6\n",
      "7\n",
      "8\n",
      "9\n",
      "10\n",
      "11\n",
      "12\n",
      "13\n",
      "14\n",
      "15\n",
      "16\n",
      "17\n",
      "18\n",
      "19\n",
      "20\n",
      "1\n",
      "2\n",
      "3\n",
      "4\n",
      "5\n",
      "6\n",
      "7\n",
      "8\n",
      "9\n",
      "10\n",
      "11\n",
      "12\n",
      "13\n",
      "14\n",
      "15\n",
      "16\n",
      "17\n",
      "18\n",
      "19\n",
      "20\n"
     ]
    }
   ],
   "source": [
    "# exercice 8\n",
    "\n",
    "for i in range(1, 21):\n",
    "    print(i)\n",
    "\n",
    "cpt = 0\n",
    "while cpt < 20:\n",
    "    cpt += 1\n",
    "    print(cpt)\n"
   ]
  },
  {
   "cell_type": "code",
   "execution_count": 18,
   "metadata": {},
   "outputs": [
    {
     "name": "stdout",
     "output_type": "stream",
     "text": [
      "10\n",
      "12\n",
      "14\n",
      "16\n",
      "18\n"
     ]
    }
   ],
   "source": [
    "#exercice 9 \n",
    "\n",
    "for i in range(10, 20, 2):\n",
    "    print(i)\n"
   ]
  },
  {
   "cell_type": "code",
   "execution_count": 17,
   "metadata": {},
   "outputs": [
    {
     "name": "stdout",
     "output_type": "stream",
     "text": [
      "12\n",
      "14\n",
      "16\n",
      "18\n",
      "20\n"
     ]
    }
   ],
   "source": [
    "cpt = 10\n",
    "while cpt < 20:\n",
    "    cpt += 2\n",
    "    print(cpt)"
   ]
  },
  {
   "cell_type": "code",
   "execution_count": 54,
   "metadata": {},
   "outputs": [
    {
     "name": "stdout",
     "output_type": "stream",
     "text": [
      "[1, 2, 3, 4, 5, 6, 7, 8, 9, 10]\n",
      "[1, 2, 3, 4, 5, 6, 7, 8, 9, 10]\n",
      "[1, 2, 3, 4, 5, 6, 7, 8, 9, 10]\n"
     ]
    }
   ],
   "source": [
    "# 10 liste compréhension\n",
    "\n",
    "liste = [x for x in range(1, 11)]\n",
    "print(liste)\n",
    "\n",
    "#sinon on aurait fait\n",
    "x = []\n",
    "for i in range(1,11):\n",
    "    x.append(i)\n",
    "\n",
    "\n",
    "print(x)\n",
    "\n",
    "# ou methode encore plus vite\n",
    "\n",
    "new_list = list(range(1,11))\n",
    "print(new_list)\n",
    "\n",
    "\n",
    "\n"
   ]
  },
  {
   "cell_type": "code",
   "execution_count": 6,
   "metadata": {},
   "outputs": [
    {
     "name": "stdout",
     "output_type": "stream",
     "text": [
      "[1, 3, 5, 7, 9]\n"
     ]
    }
   ],
   "source": [
    "# 11 nombre pairs \n",
    "\n",
    "liste = [x for x in range(1, 11, 2)]\n",
    "print(liste)\n"
   ]
  },
  {
   "cell_type": "code",
   "execution_count": 9,
   "metadata": {},
   "outputs": [
    {
     "name": "stdout",
     "output_type": "stream",
     "text": [
      "[1, 2, 2, 3, 4, 6, 8, 9, 12]\n"
     ]
    }
   ],
   "source": [
    "# 12 \n",
    "\n",
    "L = [6,8,3,4,1,12,2,9,2]\n",
    "L = sorted(L)\n",
    "print(L)"
   ]
  },
  {
   "cell_type": "code",
   "execution_count": 10,
   "metadata": {},
   "outputs": [
    {
     "name": "stdout",
     "output_type": "stream",
     "text": [
      "2\n"
     ]
    }
   ],
   "source": [
    "# 13\n",
    "\n",
    "L = [3,2,2,1,9,1,3,7]\n",
    "\n",
    "occurences = L.count(3)\n",
    "print(occurences)"
   ]
  },
  {
   "cell_type": "code",
   "execution_count": 26,
   "metadata": {},
   "outputs": [
    {
     "name": "stdout",
     "output_type": "stream",
     "text": [
      "[10, 25, 30, 45, 90, 'ab', 'cd', 'ef']\n"
     ]
    }
   ],
   "source": [
    "# 14\n",
    "\n",
    "L = [10,25,30,45,90]\n",
    "\n",
    "\n",
    "L.append(\"ab\")\n",
    "L.append(\"cd\")\n",
    "L.append(\"ef\")\n",
    "print(L)"
   ]
  },
  {
   "cell_type": "code",
   "execution_count": 317,
   "metadata": {},
   "outputs": [
    {
     "name": "stdout",
     "output_type": "stream",
     "text": [
      "[1, 4, 7, 10]\n"
     ]
    }
   ],
   "source": [
    "# 15\n",
    "\n",
    "L = [x for x in range(1, 11)]\n",
    "\n",
    "L2 = L[::3]\n",
    "\n",
    "\n",
    "print(L2)\n",
    "\n",
    "\n"
   ]
  },
  {
   "cell_type": "code",
   "execution_count": 43,
   "metadata": {},
   "outputs": [
    {
     "name": "stdout",
     "output_type": "stream",
     "text": [
      "acefnr\n"
     ]
    }
   ],
   "source": [
    "# 16 ok\n",
    "\n",
    "c = \"france\"\n",
    "\n",
    "c_croissant = ''.join(sorted(c))\n",
    "print(c_croissant)"
   ]
  },
  {
   "cell_type": "code",
   "execution_count": 18,
   "metadata": {},
   "outputs": [
    {
     "name": "stdout",
     "output_type": "stream",
     "text": [
      "{2, 3, 'b', 7, 8, 9, 14, 'bonjour', 'p', 'a'}\n",
      "{9, 'b', 3, 'p'}\n"
     ]
    }
   ],
   "source": [
    "# 17 ok\n",
    "\n",
    "L1 = [9,8,7,14,3,2,\"a\",\"p\",\"bonjour\",\"b\"]\n",
    "L2 = [\"b\",1,9.2,6,3,9,\"p\"]\n",
    "\n",
    "L1 = set(L1)\n",
    "L2 = set(L2)\n",
    "\n",
    "occurences = L1.intersection(L2)\n",
    "print(occurences)\n",
    "\n",
    "    \n",
    "    \n",
    "\n"
   ]
  },
  {
   "cell_type": "code",
   "execution_count": 48,
   "metadata": {},
   "outputs": [
    {
     "name": "stdout",
     "output_type": "stream",
     "text": [
      "15\n",
      "23\n",
      "32\n",
      "44\n"
     ]
    }
   ],
   "source": [
    "# 18 ok\n",
    "\n",
    "L = [(\"Pomme\", 15),(\"Banane\", 8),(\"Kiwi\", 9),(\"Fraise\",12)]\n",
    "\n",
    "rang = 0\n",
    "for i in range(len(L)):\n",
    "    rang += L[i][1]\n",
    "    print(rang)\n",
    "\n",
    "\n",
    "f = lambda \n",
    "\n",
    "\n",
    "    "
   ]
  },
  {
   "cell_type": "code",
   "execution_count": 24,
   "metadata": {},
   "outputs": [
    {
     "name": "stdout",
     "output_type": "stream",
     "text": [
      "ednom el tuot ruojnoB\n"
     ]
    }
   ],
   "source": [
    "#19 ok\n",
    "\n",
    "ch = \"Bonjour tout le monde\"\n",
    "\n",
    "ch_inverse = ''.join(reversed(ch))\n",
    "\n",
    "print(ch_inverse)"
   ]
  },
  {
   "cell_type": "code",
   "execution_count": 15,
   "metadata": {},
   "outputs": [
    {
     "name": "stdout",
     "output_type": "stream",
     "text": [
      "0 ('Pomme', 15)\n",
      "1 ('Banane', 8)\n",
      "2 ('Kiwi', 9)\n",
      "3 ('Fraise', 12)\n"
     ]
    }
   ],
   "source": [
    "# 20 ok\n",
    "\n",
    "L = [(\"Pomme\", 15),(\"Banane\", 8),(\"Kiwi\", 9),(\"Fraise\",12)]\n",
    "\n",
    "\n",
    "for k,v in enumerate(L):\n",
    "    print(k,v)"
   ]
  },
  {
   "cell_type": "code",
   "execution_count": 15,
   "metadata": {},
   "outputs": [
    {
     "data": {
      "text/plain": [
       "44"
      ]
     },
     "execution_count": 15,
     "metadata": {},
     "output_type": "execute_result"
    }
   ],
   "source": [
    "# 21 ok\n",
    "\n",
    "\n",
    "def total_values(ma_liste):\n",
    "     valeurs = list(ma_liste.values())\n",
    "     somme = sum(valeurs)\n",
    "     return(somme)\n",
    "\n",
    "\n",
    "\n",
    "Liste = {\n",
    "     \"Pomme\": 15,\n",
    "     \"Banane\": 8,\n",
    "     \"Kiwi\": 9,\n",
    "     \"Fraise\": 12,\n",
    "     }\n",
    "\n",
    "total_values(Liste)\n",
    "\n",
    "    "
   ]
  },
  {
   "cell_type": "code",
   "execution_count": 57,
   "metadata": {},
   "outputs": [
    {
     "name": "stdout",
     "output_type": "stream",
     "text": [
      "187.63\n"
     ]
    }
   ],
   "source": [
    "# 22 \n",
    "x = 187.632587\n",
    "x = \"{:.2f}\".format(x)\n",
    "print(x)"
   ]
  },
  {
   "cell_type": "code",
   "execution_count": 59,
   "metadata": {},
   "outputs": [
    {
     "name": "stdout",
     "output_type": "stream",
     "text": [
      "Je m'appelle Julien et j'ai 32 ans. J'apprends le langage Python\n"
     ]
    }
   ],
   "source": [
    "# 23 \n",
    "\n",
    "phrase = \"Je m'appelle {} et j'ai {} ans. J'apprends le langage {}\"\n",
    "\n",
    "monNom = \"Julien\"\n",
    "age = 32\n",
    "langage = \"Python\"\n",
    "\n",
    "phrase = phrase.format(monNom, age, langage)\n",
    "print(phrase)"
   ]
  },
  {
   "cell_type": "code",
   "execution_count": 69,
   "metadata": {},
   "outputs": [
    {
     "name": "stdout",
     "output_type": "stream",
     "text": [
      "8 x 0 = 0\n",
      "8 x 1 = 8\n",
      "8 x 2 = 16\n",
      "8 x 3 = 24\n",
      "8 x 4 = 32\n",
      "8 x 5 = 40\n",
      "8 x 6 = 48\n",
      "8 x 7 = 56\n",
      "8 x 8 = 64\n",
      "8 x 9 = 72\n",
      "8 x 10 = 80\n"
     ]
    }
   ],
   "source": [
    "# 24\n",
    "\n",
    "\n",
    "for i in range(11):\n",
    "    tab = \"8 x {} =\".format(i)\n",
    "    result = 8 * i\n",
    "    print(tab, result)"
   ]
  },
  {
   "cell_type": "code",
   "execution_count": 1,
   "metadata": {},
   "outputs": [
    {
     "name": "stdout",
     "output_type": "stream",
     "text": [
      "/home/utilisateur/Bureau/Projets/python_projets/python-course\n"
     ]
    }
   ],
   "source": [
    "# 25\n",
    "import os\n",
    "\n",
    "print(os.getcwd())\n",
    "\n"
   ]
  },
  {
   "cell_type": "code",
   "execution_count": 59,
   "metadata": {},
   "outputs": [
    {
     "name": "stdout",
     "output_type": "stream",
     "text": [
      "[2, 3, 4, 5]\n"
     ]
    }
   ],
   "source": [
    "# 26\n",
    "\n",
    "L = [1,2,3,4,5]\n",
    "L.remove(1)\n",
    "print(L)"
   ]
  },
  {
   "cell_type": "code",
   "execution_count": 62,
   "metadata": {},
   "outputs": [
    {
     "name": "stdout",
     "output_type": "stream",
     "text": [
      ".ipynb\n"
     ]
    }
   ],
   "source": [
    "# 27\n",
    "\n",
    "import os \n",
    "\n",
    "ext = os.path.splitext('././5b-lambda.ipynb')\n",
    "print(ext[1])\n",
    "\n"
   ]
  },
  {
   "cell_type": "code",
   "execution_count": 63,
   "metadata": {},
   "outputs": [
    {
     "name": "stdout",
     "output_type": "stream",
     "text": [
      "1697103525.353077\n",
      "8 x 0 = 0\n",
      "8 x 1 = 8\n",
      "8 x 2 = 16\n",
      "8 x 3 = 24\n",
      "8 x 4 = 32\n",
      "8 x 5 = 40\n",
      "8 x 6 = 48\n",
      "8 x 7 = 56\n",
      "8 x 8 = 64\n",
      "8 x 9 = 72\n",
      "8 x 10 = 80\n",
      "0.0007472038269042969\n"
     ]
    }
   ],
   "source": [
    "# 28\n",
    "import time\n",
    "\n",
    "start = time.time()\n",
    "print(start)\n",
    "nombre = 8\n",
    "\n",
    "\n",
    "for i in range(11):\n",
    "    tab = \"8 x {} =\".format(i)\n",
    "    result = 8 * i\n",
    "    print(tab, result)\n",
    "\n",
    "print(time.time()-start)"
   ]
  },
  {
   "cell_type": "code",
   "execution_count": 17,
   "metadata": {},
   "outputs": [
    {
     "name": "stdout",
     "output_type": "stream",
     "text": [
      "[8, 6, 'd', 3, 7, 2, 's']\n"
     ]
    }
   ],
   "source": [
    "# 29\n",
    "\n",
    "import random\n",
    "\n",
    "L = [3,6,8,7,2,\"s\",\"d\"]\n",
    "random.shuffle(L)\n",
    "\n",
    "print(L)"
   ]
  },
  {
   "cell_type": "code",
   "execution_count": 3,
   "metadata": {},
   "outputs": [
    {
     "name": "stdout",
     "output_type": "stream",
     "text": [
      "8\n"
     ]
    }
   ],
   "source": [
    "# 30\n",
    "\n",
    "import random\n",
    "\n",
    "nombre = random.randint(1, 10)\n",
    "print(nombre)"
   ]
  },
  {
   "cell_type": "code",
   "execution_count": 131,
   "metadata": {},
   "outputs": [
    {
     "name": "stdout",
     "output_type": "stream",
     "text": [
      "5 6 7 8 9 10 11 12 13 14 15 16 17 18 19 20\n",
      "5 6 7 8 9 10 11 12 13 14 15 16 17 18 19 20\n",
      "5 6 7 8 9 10 11 12 13 14 15 16 17 18 19 20\n",
      "5 6 7 8 9 10 11 12 13 14 15 16 17 18 19 20\n",
      "5 6 7 8 9 10 11 12 13 14 15 16 17 18 19 20\n",
      "5 6 7 8 9 10 11 12 13 14 15 16 17 18 19 20\n",
      "5 6 7 8 9 10 11 12 13 14 15 16 17 18 19 20\n"
     ]
    }
   ],
   "source": [
    "# 31 \n",
    "\n",
    "for i in range(7):\n",
    "    L = [x for x in range(5,21)]\n",
    "    resultat = \" \".join(map(str, L))\n",
    "    print(resultat)\n",
    "\n",
    "\n",
    "\n"
   ]
  },
  {
   "cell_type": "code",
   "execution_count": 11,
   "metadata": {},
   "outputs": [
    {
     "name": "stdout",
     "output_type": "stream",
     "text": [
      "[3, 6, 9, 12, 15, 18, 21, 24]\n",
      "[3, 12, 21]\n"
     ]
    }
   ],
   "source": [
    "# 32\n",
    "\n",
    "L = [x for x in range(3,25,3)]\n",
    "import os \n",
    "\n",
    "ext = os.path.splitext('././5b-lambda.ipynb')\n",
    "print(ext[1])\n",
    "print(L)\n",
    "\n",
    "L1 = L[::3]\n",
    "print(L1)"
   ]
  },
  {
   "cell_type": "code",
   "execution_count": 22,
   "metadata": {},
   "outputs": [
    {
     "name": "stdout",
     "output_type": "stream",
     "text": [
      "[5, 2, 8]\n"
     ]
    }
   ],
   "source": [
    "# 33\n",
    "\n",
    "L = [-6,5,-3,-1,2,8,-3.6]\n",
    "L1 = []\n",
    "\n",
    "for item in L:\n",
    "    if item > 0:\n",
    "        L1.append(item)\n",
    "\n",
    "print(L1)"
   ]
  },
  {
   "cell_type": "code",
   "execution_count": 78,
   "metadata": {},
   "outputs": [
    {
     "name": "stdout",
     "output_type": "stream",
     "text": [
      "9\n",
      "2\n"
     ]
    }
   ],
   "source": [
    "# 34\n",
    "\n",
    "def f(a,b,x):\n",
    "    function = a*(x**3) + 2*a*(x**2) + b\n",
    "    return function\n",
    "\n",
    "print(f(3,0,1))\n",
    "print(f(0,2,2))"
   ]
  },
  {
   "cell_type": "code",
   "execution_count": 77,
   "metadata": {},
   "outputs": [
    {
     "name": "stdout",
     "output_type": "stream",
     "text": [
      "True\n",
      "False\n"
     ]
    }
   ],
   "source": [
    "# 35 \n",
    "\n",
    "def VerifPresence(a, L):\n",
    "    if a in L:\n",
    "        return True\n",
    "    else:\n",
    "        return False\n",
    "    \n",
    "\n",
    "resultat = VerifPresence(2,[1,2,3,4,5,6])\n",
    "print(resultat)\n",
    "resultat = VerifPresence(-1,[3,6,9,7,\"abcr\"])\n",
    "print(resultat)"
   ]
  },
  {
   "cell_type": "code",
   "execution_count": 42,
   "metadata": {},
   "outputs": [
    {
     "name": "stdout",
     "output_type": "stream",
     "text": [
      "14\n",
      "12\n"
     ]
    }
   ],
   "source": [
    "# 36\n",
    "\n",
    "def somme_chiffre(chiffre):\n",
    "    chiffre = str(chiffre)\n",
    "    somme = 0\n",
    "    for lettre in chiffre:\n",
    "       somme += int(lettre)\n",
    "    \n",
    "    return somme\n",
    "\n",
    "\n",
    "resultat = somme_chiffre(149)\n",
    "print(resultat)\n",
    "\n",
    "resultat = somme_chiffre(3018)\n",
    "print(resultat)"
   ]
  },
  {
   "cell_type": "code",
   "execution_count": 41,
   "metadata": {},
   "outputs": [
    {
     "name": "stdout",
     "output_type": "stream",
     "text": [
      "24\n",
      "1\n"
     ]
    }
   ],
   "source": [
    "# 37\n",
    "\n",
    "def calculSomme(L):\n",
    "    somme = 0\n",
    "    for num in L:\n",
    "        somme += num\n",
    "    \n",
    "    return somme\n",
    "\n",
    "resultat = calculSomme([3,2,6,9,-1,5])\n",
    "print(resultat)\n",
    "resultat = calculSomme([-3,-6,0,1,2,7])\n",
    "print(resultat)"
   ]
  },
  {
   "cell_type": "code",
   "execution_count": 40,
   "metadata": {},
   "outputs": [
    {
     "name": "stdout",
     "output_type": "stream",
     "text": [
      "[-1, 0, 1, 3, 5, 7]\n",
      "[-3, 0, 1, 3.2, 5, 9, 10]\n"
     ]
    }
   ],
   "source": [
    "# 38\n",
    "\n",
    "\n",
    "\n",
    "def supprimerDoublons(L):\n",
    "    \n",
    "    L = list(set(L)) #set() pour supprimer les doublons puis conversion liste\n",
    "    \n",
    "    L = sorted(L)\n",
    "    \n",
    "    return L\n",
    "\n",
    "L = [0,3,5,7,3,5,1,-1]\n",
    "resultat = supprimerDoublons(L)\n",
    "print(resultat)\n",
    "\n",
    "L = [0,5,9,10,3.2,1,-3]\n",
    "resultat = supprimerDoublons(L)\n",
    "print(resultat)\n",
    "\n",
    "\n"
   ]
  },
  {
   "cell_type": "code",
   "execution_count": 39,
   "metadata": {},
   "outputs": [
    {
     "name": "stdout",
     "output_type": "stream",
     "text": [
      "{'julien': 14, 'laurent': 31, 'baptiste': 29}\n",
      "{'poids': 65.3}\n"
     ]
    }
   ],
   "source": [
    "# 39\n",
    "\n",
    "\n",
    "def ajoutElementDict(cle,valeur,d):\n",
    "\n",
    "    d[cle] = valeur\n",
    "\n",
    "    return d\n",
    "\n",
    "\n",
    "resultat = ajoutElementDict(\"baptiste\", 29, {\"julien\" : 14, \"laurent\" : 31})\n",
    "print(resultat)\n",
    "resultat = ajoutElementDict(\"poids\", 65.3, {})\n",
    "print(resultat)\n",
    "\n",
    "\n"
   ]
  },
  {
   "cell_type": "code",
   "execution_count": 38,
   "metadata": {},
   "outputs": [
    {
     "name": "stdout",
     "output_type": "stream",
     "text": [
      "8\n",
      "7\n"
     ]
    }
   ],
   "source": [
    "# 40\n",
    "\n",
    "#ecrire une fonction maximum(L) qui prend en paramètre une liste d'entier et renvoie la valeur la plus grande.\n",
    "\n",
    "L = [2,5,3,5,6]\n",
    "\n",
    "def maximum(L):\n",
    "    chiffre = L[0] # j'initialise un nombre de la liste\n",
    "    for item in L:\n",
    "        if item > chiffre:\n",
    "            chiffre = item\n",
    "    return chiffre\n",
    "\n",
    "maximum(L)\n",
    "resultat = maximum([-9,2,4,1,8])\n",
    "print(resultat)\n",
    "resultat = maximum([-3,1,7,6,2,3])\n",
    "print(resultat)\n"
   ]
  },
  {
   "cell_type": "code",
   "execution_count": 64,
   "metadata": {},
   "outputs": [
    {
     "name": "stdout",
     "output_type": "stream",
     "text": [
      "46\n",
      "12\n"
     ]
    }
   ],
   "source": [
    "# 41\n",
    "\n",
    "def sommeSousListe(L, i, j):\n",
    "    somme = 0\n",
    "    for cpt in range(i, j + 1):  # j + 1 car j tout seul c'est la condition d'arret\n",
    "        somme += L[cpt]\n",
    "    return somme\n",
    "\n",
    "resultat = sommeSousListe([4, 10, 12, 16, 18], 2, 4)\n",
    "print(resultat)\n",
    "resultat = sommeSousListe([x for x in range(2,12,2)], 0, 2)\n",
    "print(resultat)\n"
   ]
  },
  {
   "cell_type": "code",
   "execution_count": 75,
   "metadata": {},
   "outputs": [
    {
     "name": "stdout",
     "output_type": "stream",
     "text": [
      "*\n",
      "**\n",
      "****\n",
      "******\n",
      "********\n",
      "**********\n"
     ]
    }
   ],
   "source": [
    "# 42\n",
    "cpt = \"*\"\n",
    "print(cpt)\n",
    "for i in range(1,6):\n",
    "    cpt = i * \"**\"\n",
    "    print(cpt)"
   ]
  },
  {
   "cell_type": "code",
   "execution_count": 81,
   "metadata": {},
   "outputs": [
    {
     "name": "stdout",
     "output_type": "stream",
     "text": [
      "-9\n",
      "-3\n"
     ]
    }
   ],
   "source": [
    "# 43\n",
    "\n",
    "def minimum(L):\n",
    "    chiffre = L[0]\n",
    "    for item in L:\n",
    "        if item < chiffre:\n",
    "            chiffre = item\n",
    "    return chiffre\n",
    "\n",
    "print(minimum([-9,2,4,1,8]))\n",
    "print(minimum([-3,1,7,6,2,3]))"
   ]
  },
  {
   "cell_type": "code",
   "execution_count": 84,
   "metadata": {},
   "outputs": [
    {
     "name": "stdout",
     "output_type": "stream",
     "text": [
      "6\n",
      "0\n"
     ]
    }
   ],
   "source": [
    "# 44\n",
    "\n",
    "def longueur(L):\n",
    "    return len(L)\n",
    "\n",
    "print(longueur([3,6,7,\"abde\", [1,3,57], True]))\n",
    "\n",
    "print(longueur([]))"
   ]
  },
  {
   "cell_type": "code",
   "execution_count": 96,
   "metadata": {},
   "outputs": [
    {
     "name": "stdout",
     "output_type": "stream",
     "text": [
      "4.0\n",
      "5.571428571428571\n"
     ]
    }
   ],
   "source": [
    "# 45\n",
    "\n",
    "def moyenneListe(L):\n",
    "    somme = sum(L)\n",
    "    moyenne = somme / len(L)\n",
    "    return moyenne\n",
    "\n",
    "print(moyenneListe([1,2,3,4,5,6,7]))\n",
    "print(moyenneListe([3,0,-1,5,6,9,17]))"
   ]
  },
  {
   "cell_type": "code",
   "execution_count": 108,
   "metadata": {},
   "outputs": [
    {
     "name": "stdout",
     "output_type": "stream",
     "text": [
      "[1, 3]\n",
      "[1, 3, 9]\n"
     ]
    }
   ],
   "source": [
    "# 46\n",
    "\n",
    "def diviseur(n):\n",
    "    liste = []\n",
    "    for i in range(1,11): \n",
    "        r = n % i\n",
    "        if r == 0:\n",
    "            liste.append(i)\n",
    "    return liste\n",
    "\n",
    "print(diviseur(3))\n",
    "print(diviseur(9))"
   ]
  },
  {
   "cell_type": "code",
   "execution_count": 121,
   "metadata": {},
   "outputs": [
    {
     "name": "stdout",
     "output_type": "stream",
     "text": [
      "True\n",
      "False\n"
     ]
    }
   ],
   "source": [
    "# 47\n",
    "\n",
    "def verifMaj(phrase):\n",
    "    for lettre in phrase:\n",
    "        if lettre.isupper():\n",
    "            return True\n",
    "        else:\n",
    "            return False\n",
    "\n",
    "print(verifMaj('Les légumes sont bon pour la santé'))\n",
    "print(verifMaj(\"j'apprends le langage python\"))\n",
    "\n"
   ]
  },
  {
   "cell_type": "code",
   "execution_count": 141,
   "metadata": {},
   "outputs": [
    {
     "name": "stdout",
     "output_type": "stream",
     "text": [
      "[0, 9, 8, 2, 6, 9, True, False, 'abc']\n",
      "[[38, -1], 3, -9, 'xz', 'France']\n"
     ]
    }
   ],
   "source": [
    "# 48\n",
    "\n",
    "def concatListe(L1,L2,L3):\n",
    "    new = []\n",
    "    new += L1\n",
    "    new += L2\n",
    "    new += L3\n",
    "    return new\n",
    "\n",
    "print(concatListe([0,9,8],[2,6,9],[True,False,\"abc\"]))\n",
    "print(concatListe([[38,-1],3,-9],[\"xz\",\"France\"], []))"
   ]
  },
  {
   "cell_type": "code",
   "execution_count": 145,
   "metadata": {},
   "outputs": [
    {
     "name": "stdout",
     "output_type": "stream",
     "text": [
      "True\n",
      "False\n"
     ]
    }
   ],
   "source": [
    "# 53\n",
    "\n",
    "def presenceVoyelle(phrase):\n",
    "    voyelles = [\"a\",\"e\",\"i\",\"o\",\"u\",\"y\"]\n",
    "    for lettre in voyelles:\n",
    "        if lettre in phrase:\n",
    "            return True\n",
    "        else:\n",
    "            return False\n",
    "\n",
    "print(presenceVoyelle(\"Je vais prendre ma douche\"))\n",
    "print(presenceVoyelle(\"rbhpm\"))"
   ]
  },
  {
   "cell_type": "code",
   "execution_count": 187,
   "metadata": {},
   "outputs": [
    {
     "name": "stdout",
     "output_type": "stream",
     "text": [
      "LaFranceestbelle!\n",
      "Jevaisprendremonvélo\n"
     ]
    }
   ],
   "source": [
    "# 54\n",
    "\n",
    "def supprEspace(phrase):\n",
    "    sans_espace = \"\"\n",
    "    for lettre in phrase:\n",
    "        if lettre != \" \":\n",
    "            sans_espace += lettre\n",
    "    return sans_espace\n",
    "\n",
    "print(supprEspace(\"La France est belle!\"))\n",
    "print(supprEspace(\"Je vais prendre mon vélo\"))"
   ]
  },
  {
   "cell_type": "code",
   "execution_count": 234,
   "metadata": {},
   "outputs": [
    {
     "name": "stdout",
     "output_type": "stream",
     "text": [
      "[2, 6]\n",
      "L'élément -1 ne se trouve pas dans la liste [6, 8, 9, 1, 3, 7]\n",
      "None\n"
     ]
    }
   ],
   "source": [
    "# 55\n",
    "\n",
    "def positionEtListe(L,x):\n",
    "    liste = []\n",
    "    if x in L:\n",
    "        for k, v in enumerate(L):\n",
    "            if v == x:\n",
    "                liste.append(k)\n",
    "        return liste\n",
    "    else:\n",
    "        print(f\"L'élément {x} ne se trouve pas dans la liste {L}\")\n",
    "\n",
    "\n",
    "print(positionEtListe([1,2,3,6,8,7,3],3))\n",
    "print(positionEtListe([6,8,9,1,3,7],-1))\n"
   ]
  },
  {
   "cell_type": "code",
   "execution_count": 254,
   "metadata": {},
   "outputs": [
    {
     "name": "stdout",
     "output_type": "stream",
     "text": [
      "Salut\n",
      "origine\n"
     ]
    }
   ],
   "source": [
    "# 56\n",
    "\n",
    "def filtrerMots(phrase, longueurMini):\n",
    "    mots = phrase.split()\n",
    "    for mot in mots:\n",
    "        if len(mot) >= longueurMini:\n",
    "            return mot\n",
    "       \n",
    "\n",
    "print(filtrerMots(\"Salut toi\", 4))\n",
    "print(filtrerMots(\"Quel est ton origine ?\", 5))\n"
   ]
  },
  {
   "cell_type": "code",
   "execution_count": 65,
   "metadata": {},
   "outputs": [
    {
     "name": "stdout",
     "output_type": "stream",
     "text": [
      "{0, 1, 3, 6, 9, 12}\n",
      "{2, 44, -3, 7}\n"
     ]
    }
   ],
   "source": [
    "# 59\n",
    "\n",
    "def unionListe(L1, L2, L3):\n",
    "    return set(L1 + L2 + L3)\n",
    "\n",
    "print(unionListe([3,6,9,3],[1,0,3],[12,6,0]))\n",
    "print(unionListe([7,44,-3],[],[7,2,7]))"
   ]
  },
  {
   "cell_type": "code",
   "execution_count": 8,
   "metadata": {},
   "outputs": [
    {
     "name": "stdout",
     "output_type": "stream",
     "text": [
      "5\n"
     ]
    }
   ],
   "source": [
    "# 60\n",
    "\n",
    "def calculPGCD(a,b):\n",
    "    if a > b:\n",
    "        r = b % a\n",
    "        q = b - r\n",
    "        return q\n",
    "    elif a < b:\n",
    "        r = b % a\n",
    "        q = a - r\n",
    "        return q\n",
    "    \n",
    "print(calculPGCD(5, 15))\n",
    "\n"
   ]
  },
  {
   "cell_type": "code",
   "execution_count": 15,
   "metadata": {},
   "outputs": [
    {
     "data": {
      "text/plain": [
       "\"dev IA = en evolution\\ncar on voudra integrer l'ia dans les appli\\n\\ndata scientist : bouché car on en a pas besoin de beaucoup. Un seul suffit \\n\\ndata analyst : pas mal d'offres besoin d'analyses pour chaque domaine on peut en avoir plusieurs dans\\nune entreprise\\n\\ndata inge : croissance car data croissant\\n\""
      ]
     },
     "execution_count": 15,
     "metadata": {},
     "output_type": "execute_result"
    }
   ],
   "source": [
    "# 61\n",
    "\n",
    "def lireFichier(cheminFichier):\n",
    "    file = open(cheminFichier,\"r\")\n",
    "    return file.read()\n",
    "\n",
    "path = \"///home/utilisateur/Documents/notes_metier\"\n",
    "lireFichier(path)\n",
    "\n",
    "#correction  #\"w\" pour ecrire dans le fichier, #a pour ajouter quelque chose\n",
    "#ici le test.txt doit etre dans le meme dossier pour faire fonctionner\n",
    "with open(\"test.txt\", \"r\") as file:\n",
    "    print(f.read())\n",
    "    "
   ]
  },
  {
   "cell_type": "code",
   "execution_count": 18,
   "metadata": {},
   "outputs": [
    {
     "data": {
      "text/plain": [
       "3"
      ]
     },
     "execution_count": 18,
     "metadata": {},
     "output_type": "execute_result"
    }
   ],
   "source": [
    "# 62\n",
    "\n",
    "def nbrOccFichier(cheminFichier,mot):\n",
    "    count = 0\n",
    "    file = open(cheminFichier,\"r\")\n",
    "    file = str(file.read())\n",
    "    mots = file.split()\n",
    "    for item in mots:\n",
    "        if item == mot:\n",
    "            count += 1\n",
    "    return count\n",
    "\n",
    "    \n",
    "\n",
    "path = \"///home/utilisateur/Documents/notes_metier\"\n",
    "nbrOccFichier(path, \"on\")"
   ]
  },
  {
   "cell_type": "code",
   "execution_count": 51,
   "metadata": {},
   "outputs": [
    {
     "name": "stdout",
     "output_type": "stream",
     "text": [
      "la moyenne de chaque etudiant :\n",
      "[85.0, 83.2, 88.0, 86.0, 89.0]\n",
      "la moyenne générale :\n",
      "86.24\n",
      "les notes au dessus de la moyenne\n",
      "[88.0, 89.0]\n",
      "[92, 88, 92, 90, 92]\n",
      "[70, 78, 85, 83, 85]\n"
     ]
    }
   ],
   "source": [
    "students = [\n",
    "    {\"name\": \"Alice\", \"grades\": [85, 90, 88, 70, 92]},\n",
    "    {\"name\": \"Bob\", \"grades\": [80, 78, 85, 85, 88]},\n",
    "    {\"name\": \"Charlie\", \"grades\": [88, 90, 92, 85, 85]},\n",
    "    {\"name\": \"David\", \"grades\": [85, 85, 83, 87, 90]},\n",
    "    {\"name\": \"Eve\", \"grades\": [90, 92, 90, 88, 85]}\n",
    "]\n",
    "\n",
    "result = map(lambda student: sum(student[\"grades\"])/5, students)\n",
    "result = list(result)\n",
    "print(\"la moyenne de chaque etudiant :\")\n",
    "print(result) \n",
    "\n",
    "print(\"la moyenne générale :\")\n",
    "moyenne_general = sum(result)/5 \n",
    "print(moyenne_general)\n",
    "\n",
    "print(\"les notes au dessus de la moyenne\")\n",
    "result_filtre = filter(lambda x: x > moyenne_general , result)\n",
    "print(list(result_filtre))\n",
    "\n",
    "\n",
    "note_max = map(lambda student: max(student[\"grades\"]), students)\n",
    "result = list(note_max)\n",
    "print(result) \n",
    "\n",
    "note_min = map(lambda student: min(student[\"grades\"]), students)\n",
    "result = list(note_min)\n",
    "print(result) \n"
   ]
  },
  {
   "cell_type": "code",
   "execution_count": null,
   "metadata": {},
   "outputs": [],
   "source": []
  }
 ],
 "metadata": {
  "kernelspec": {
   "display_name": "Python 3",
   "language": "python",
   "name": "python3"
  },
  "language_info": {
   "codemirror_mode": {
    "name": "ipython",
    "version": 3
   },
   "file_extension": ".py",
   "mimetype": "text/x-python",
   "name": "python",
   "nbconvert_exporter": "python",
   "pygments_lexer": "ipython3",
   "version": "3.11.0rc1"
  },
  "orig_nbformat": 4
 },
 "nbformat": 4,
 "nbformat_minor": 2
}
